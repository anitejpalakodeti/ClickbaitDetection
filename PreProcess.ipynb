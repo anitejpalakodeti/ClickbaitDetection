{
 "cells": [
  {
   "cell_type": "code",
   "execution_count": 1,
   "metadata": {
    "execution": {
     "iopub.execute_input": "2021-04-06T14:03:54.898587Z",
     "iopub.status.busy": "2021-04-06T14:03:54.898587Z",
     "iopub.status.idle": "2021-04-06T14:04:44.410602Z",
     "shell.execute_reply": "2021-04-06T14:04:44.410602Z",
     "shell.execute_reply.started": "2021-04-06T14:03:54.898587Z"
    }
   },
   "outputs": [],
   "source": [
    "import os\n",
    "import json_lines\n",
    "import pandas as pd\n",
    "import re\n",
    "from nltk.corpus import stopwords\n",
    "from nltk.tokenize import word_tokenize "
   ]
  },
  {
   "cell_type": "code",
   "execution_count": 5,
   "metadata": {
    "execution": {
     "iopub.execute_input": "2021-04-06T14:05:22.252953Z",
     "iopub.status.busy": "2021-04-06T14:05:22.252953Z",
     "iopub.status.idle": "2021-04-06T14:05:22.380958Z",
     "shell.execute_reply": "2021-04-06T14:05:22.380958Z",
     "shell.execute_reply.started": "2021-04-06T14:05:22.252953Z"
    }
   },
   "outputs": [
    {
     "name": "stderr",
     "output_type": "stream",
     "text": [
      "'[[' is not recognized as an internal or external command,\n",
      "operable program or batch file.\n",
      "'[[' is not recognized as an internal or external command,\n",
      "operable program or batch file.\n"
     ]
    }
   ],
   "source": [
    "# If it does not exist, download the clickbait training dataset\n",
    "![[ ! -d \"data\" ]] && mkdir data\n",
    "![[ ! -d \"data/clickbait17-validation-170630\" ]] && wget \"https://zenodo.org/record/3346491/files/clickbait17-train-170630.zip?download=1\" -O data/temp.zip && unzip -q data/temp.zip -d data && rm data/temp.zip && rm -r data/clickbait17-validation-170630/media"
   ]
  },
  {
   "cell_type": "code",
   "execution_count": 3,
   "metadata": {
    "execution": {
     "iopub.execute_input": "2021-04-06T14:04:44.622818Z",
     "iopub.status.busy": "2021-04-06T14:04:44.622818Z",
     "iopub.status.idle": "2021-04-06T14:04:44.662689Z",
     "shell.execute_reply": "2021-04-06T14:04:44.662689Z",
     "shell.execute_reply.started": "2021-04-06T14:04:44.622818Z"
    }
   },
   "outputs": [],
   "source": [
    "def load_data(path):\n",
    "    instance_file = open(os.path.join(path, 'instances.jsonl'),'rb')\n",
    "    truth_file = open(os.path.join(path, 'truth.jsonl'),'rb')\n",
    "    j_instance = []\n",
    "    j_truth = []\n",
    "    for item in json_lines.reader(instance_file):\n",
    "        j_instance.append(item)\n",
    "    \n",
    "    for item in json_lines.reader(truth_file):\n",
    "        j_truth.append(item)\n",
    "    \n",
    "    df_instance = pd.DataFrame(j_instance)\n",
    "    df_truth = pd.DataFrame(j_truth)\n",
    "    instance_file.close()\n",
    "    truth_file.close()\n",
    "    return df_instance, df_truth"
   ]
  },
  {
   "cell_type": "code",
   "execution_count": 7,
   "metadata": {
    "execution": {
     "iopub.execute_input": "2021-04-06T14:07:25.883430Z",
     "iopub.status.busy": "2021-04-06T14:07:25.875431Z",
     "iopub.status.idle": "2021-04-06T14:07:27.661718Z",
     "shell.execute_reply": "2021-04-06T14:07:27.661718Z",
     "shell.execute_reply.started": "2021-04-06T14:07:25.883430Z"
    }
   },
   "outputs": [],
   "source": [
    "# Load data from downloaded file\n",
    "df, df_truth = load_data('E:\\TU Delft\\Q3\\Information Retrieval\\Applied NLP Project\\clickbait17-validation-170630')"
   ]
  },
  {
   "cell_type": "code",
   "execution_count": 8,
   "metadata": {
    "execution": {
     "iopub.execute_input": "2021-04-06T14:07:32.158020Z",
     "iopub.status.busy": "2021-04-06T14:07:32.158020Z",
     "iopub.status.idle": "2021-04-06T14:07:32.447206Z",
     "shell.execute_reply": "2021-04-06T14:07:32.447206Z",
     "shell.execute_reply.started": "2021-04-06T14:07:32.158020Z"
    }
   },
   "outputs": [],
   "source": [
    "# Drop the post media columns as we do not use this in the project\n",
    "df = df.drop('postMedia',1)\n",
    "df = df.drop('targetCaptions', 1)"
   ]
  },
  {
   "cell_type": "code",
   "execution_count": 12,
   "metadata": {
    "execution": {
     "iopub.execute_input": "2021-04-06T14:09:17.517089Z",
     "iopub.status.busy": "2021-04-06T14:09:17.517089Z",
     "iopub.status.idle": "2021-04-06T14:09:17.597120Z",
     "shell.execute_reply": "2021-04-06T14:09:17.597120Z",
     "shell.execute_reply.started": "2021-04-06T14:09:17.517089Z"
    }
   },
   "outputs": [],
   "source": [
    "stop_words = set(stopwords.words('english'))\n",
    "\n",
    "def clean_column(column):\n",
    "    column = [re.sub('[^a-zA-Z0-9 ]', '', str(x)) for x in column]\n",
    "    column = [re.sub('xa0', ' ', str(x)) for x in column]\n",
    "    column = [str(x).lower() for x in column]\n",
    "    column = [' '.join([str(word) for word in word_tokenize(sentence) if not word in stop_words]) for sentence in column]\n",
    "    \n",
    "    return column"
   ]
  },
  {
   "cell_type": "code",
   "execution_count": 13,
   "metadata": {
    "execution": {
     "iopub.execute_input": "2021-04-06T14:09:19.489546Z",
     "iopub.status.busy": "2021-04-06T14:09:19.489546Z",
     "iopub.status.idle": "2021-04-06T14:10:27.274862Z",
     "shell.execute_reply": "2021-04-06T14:10:27.274862Z",
     "shell.execute_reply.started": "2021-04-06T14:09:19.489546Z"
    }
   },
   "outputs": [],
   "source": [
    "# Remove unecessary tokens from the columns of the dataframe\n",
    "df['postText'] = clean_column(df['postText'])\n",
    "df['targetParagraphs'] = clean_column(df['targetParagraphs'])\n",
    "df['targetTitle'] = clean_column(df['targetTitle'])\n",
    "df['targetDescription'] = clean_column(df['targetDescription'])\n",
    "df['targetKeywords'] = clean_column(df['targetKeywords'])\n",
    "df['Day'] = [x[:3] for x in df['postTimestamp']]\n",
    "df['Hour'] = [int(x[11:13]) for x in df['postTimestamp']]"
   ]
  },
  {
   "cell_type": "code",
   "execution_count": 14,
   "metadata": {
    "execution": {
     "iopub.execute_input": "2021-04-06T14:10:27.274862Z",
     "iopub.status.busy": "2021-04-06T14:10:27.274862Z",
     "iopub.status.idle": "2021-04-06T14:10:27.291076Z",
     "shell.execute_reply": "2021-04-06T14:10:27.291076Z",
     "shell.execute_reply.started": "2021-04-06T14:10:27.274862Z"
    }
   },
   "outputs": [],
   "source": [
    "def time_class(time):\n",
    "    if time >= 4 and time <12:\n",
    "        return 'Morning'\n",
    "    elif time >= 12 and time <17:\n",
    "        return 'Afternoon'\n",
    "    elif time >= 17 and time <20:\n",
    "        return 'Evening'\n",
    "    else:\n",
    "        return 'Night'"
   ]
  },
  {
   "cell_type": "code",
   "execution_count": 15,
   "metadata": {
    "execution": {
     "iopub.execute_input": "2021-04-06T14:10:27.291076Z",
     "iopub.status.busy": "2021-04-06T14:10:27.291076Z",
     "iopub.status.idle": "2021-04-06T14:10:27.401487Z",
     "shell.execute_reply": "2021-04-06T14:10:27.401487Z",
     "shell.execute_reply.started": "2021-04-06T14:10:27.291076Z"
    }
   },
   "outputs": [],
   "source": [
    "# Add classification for the time of day each post\n",
    "df['TimeClass'] = [time_class(hour) for hour in df['Hour']]"
   ]
  },
  {
   "cell_type": "code",
   "execution_count": 16,
   "metadata": {
    "execution": {
     "iopub.execute_input": "2021-04-06T14:10:27.401487Z",
     "iopub.status.busy": "2021-04-06T14:10:27.401487Z",
     "iopub.status.idle": "2021-04-06T14:10:27.857930Z",
     "shell.execute_reply": "2021-04-06T14:10:27.857930Z",
     "shell.execute_reply.started": "2021-04-06T14:10:27.401487Z"
    }
   },
   "outputs": [],
   "source": [
    "# Merge the instance data with the truth scores\n",
    "df = pd.merge(df,df_truth,left_on='id',right_on='id')"
   ]
  },
  {
   "cell_type": "code",
   "execution_count": 18,
   "metadata": {
    "execution": {
     "iopub.execute_input": "2021-04-06T14:12:19.811350Z",
     "iopub.status.busy": "2021-04-06T14:12:19.803334Z",
     "iopub.status.idle": "2021-04-06T14:12:21.707341Z",
     "shell.execute_reply": "2021-04-06T14:12:21.707341Z",
     "shell.execute_reply.started": "2021-04-06T14:12:19.803334Z"
    }
   },
   "outputs": [],
   "source": [
    "# Save df as csv\n",
    "df.to_csv('cleaned_clickbait.csv',index=False)"
   ]
  }
 ],
 "metadata": {
  "kernelspec": {
   "display_name": "Python 3",
   "language": "python",
   "name": "python3"
  },
  "language_info": {
   "codemirror_mode": {
    "name": "ipython",
    "version": 3
   },
   "file_extension": ".py",
   "mimetype": "text/x-python",
   "name": "python",
   "nbconvert_exporter": "python",
   "pygments_lexer": "ipython3",
   "version": "3.8.5"
  }
 },
 "nbformat": 4,
 "nbformat_minor": 5
}
